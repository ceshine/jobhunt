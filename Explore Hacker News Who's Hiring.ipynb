{
 "metadata": {
  "name": "",
  "signature": "sha256:782f6a4ae61628dd5cb9f489d2d5e3a4098836e5510bd357bddf36a52c5751d0"
 },
 "nbformat": 3,
 "nbformat_minor": 0,
 "worksheets": [
  {
   "cells": [
    {
     "cell_type": "code",
     "collapsed": false,
     "input": [
      "from whoishiring import whlisting, joblisting"
     ],
     "language": "python",
     "metadata": {},
     "outputs": [],
     "prompt_number": 1
    },
    {
     "cell_type": "code",
     "collapsed": false,
     "input": [
      "listings = whlisting.WHListing()\n",
      "print len(listings)"
     ],
     "language": "python",
     "metadata": {},
     "outputs": [
      {
       "output_type": "stream",
       "stream": "stdout",
       "text": [
        "45\n"
       ]
      }
     ],
     "prompt_number": 48
    },
    {
     "cell_type": "code",
     "collapsed": false,
     "input": [
      "j = joblisting.JobListing(listings.latest.permanent)"
     ],
     "language": "python",
     "metadata": {},
     "outputs": [],
     "prompt_number": 3
    },
    {
     "cell_type": "code",
     "collapsed": false,
     "input": [
      "j.date"
     ],
     "language": "python",
     "metadata": {},
     "outputs": [
      {
       "metadata": {},
       "output_type": "pyout",
       "prompt_number": 4,
       "text": [
        "datetime.date(2015, 1, 1)"
       ]
      }
     ],
     "prompt_number": 4
    },
    {
     "cell_type": "code",
     "collapsed": false,
     "input": [
      "j[1]"
     ],
     "language": "python",
     "metadata": {},
     "outputs": [
      {
       "metadata": {},
       "output_type": "pyout",
       "prompt_number": 15,
       "text": [
        "{'author': 'user?id=jjarmoc', 'url': 'item?id=8823260', 'text': \"-= MATASANO SECURITY =-\\nChicago. New York City. Sunnyvale.\\nApplication Security Consultant Full-Time or Internship, work visa sponsorship available. The start of a new year is a time many people become a bit introspective and reflect on their lives and careers.  Those of us who enjoy what we do, and find satisfaction in our work take account of our accomplishments and achievements in the past year.  Others may be less satisfied with their current position, and resolve to improve it.  If you find yourself in the latter camp, my advice is to find a job for which you are passionate, motivated, and talented.  Find your muse; something which engages your heart and mind, and gives you a sense a fulfillment. For those of us at Matasano Security, this sense of pride and accomplishment comes from assessing the security of application software.  We find few things as inately satisfying as discovering ways to abuse application logic and bend it to our will.  Better yet is the satisfaction that comes with knowing our clients can now use our information to secure their applications and protect their clients. It takes meticulous attention to detail, and the ability to think outside the box and consider cases the application's own developers didn't.  Application Security can be both an intriguing mental puzzle, and an extreme adrenaline rush in a way few disciplines of computing are. In the coming weeks, gyms will fill up with new members intent on exercising their bodies.  Me?  I'll continue soldiering on, breaking and helping fix software, exercising my heart and mind.  If you'd like to join me, check out matasano.com/careers and contact us at careers@matasano.com.\", 'parent_thread': 'item?id=8822808', 'permanent': 'permanent', 'html': '<font color=\"#000000\">-= MATASANO SECURITY =-\\nChicago. New York City. Sunnyvale.\\nApplication Security Consultant<p>Full-Time or Internship, work visa sponsorship available.</p><p>The start of a new year is a time many people become a bit introspective and reflect on their lives and careers.  Those of us who enjoy what we do, and find satisfaction in our work take account of our accomplishments and achievements in the past year.  Others may be less satisfied with their current position, and resolve to improve it.  If you find yourself in the latter camp, my advice is to find a job for which you are passionate, motivated, and talented.  Find your muse; something which engages your heart and mind, and gives you a sense a fulfillment.</p><p>For those of us at Matasano Security, this sense of pride and accomplishment comes from assessing the security of application software.  We find few things as inately satisfying as discovering ways to abuse application logic and bend it to our will.  Better yet is the satisfaction that comes with knowing our clients can now use our information to secure their applications and protect their clients. It takes meticulous attention to detail, and the ability to think outside the box and consider cases the application\\'s own developers didn\\'t.  Application Security can be both an intriguing mental puzzle, and an extreme adrenaline rush in a way few disciplines of computing are.</p><p>In the coming weeks, gyms will fill up with new members intent on exercising their bodies.  Me?  I\\'ll continue soldiering on, breaking and helping fix software, exercising my heart and mind.  If you\\'d like to join me, check out matasano.com/careers and contact us at careers@matasano.com.</p></font>', 'date': datetime.date(2015, 1, 1)}"
       ]
      }
     ],
     "prompt_number": 15
    },
    {
     "cell_type": "heading",
     "level": 1,
     "metadata": {},
     "source": [
      "Find Remote Jobs"
     ]
    },
    {
     "cell_type": "code",
     "collapsed": false,
     "input": [
      "import re\n",
      "remote = re.compile(\"(?<!no) remote\", re.IGNORECASE)"
     ],
     "language": "python",
     "metadata": {},
     "outputs": [],
     "prompt_number": 6
    },
    {
     "cell_type": "code",
     "collapsed": false,
     "input": [
      "print \"Negative case\", remote.search(\"sorry no remote\")\n",
      "print \"Positive case\", remote.search(\"yes remote ok\")"
     ],
     "language": "python",
     "metadata": {},
     "outputs": [
      {
       "output_type": "stream",
       "stream": "stdout",
       "text": [
        "Negative case None\n",
        "Positive case <_sre.SRE_Match object at 0x7f6e98ac27e8>\n"
       ]
      }
     ],
     "prompt_number": 7
    },
    {
     "cell_type": "code",
     "collapsed": false,
     "input": [
      "remote_jobs = [x for x in j if remote.search(x['text'])]"
     ],
     "language": "python",
     "metadata": {},
     "outputs": [],
     "prompt_number": 8
    },
    {
     "cell_type": "code",
     "collapsed": false,
     "input": [
      "print len(remote_jobs)\n",
      "print len(j)"
     ],
     "language": "python",
     "metadata": {},
     "outputs": [
      {
       "output_type": "stream",
       "stream": "stdout",
       "text": [
        "50\n",
        "275\n"
       ]
      }
     ],
     "prompt_number": 9
    },
    {
     "cell_type": "heading",
     "level": 1,
     "metadata": {},
     "source": [
      "More Criterion"
     ]
    },
    {
     "cell_type": "code",
     "collapsed": false,
     "input": [
      "languages = re.compile(r\"( python )|((?<!\\w)go(?!\\w))|(Haskell)\", re.IGNORECASE)"
     ],
     "language": "python",
     "metadata": {},
     "outputs": [],
     "prompt_number": 45
    },
    {
     "cell_type": "code",
     "collapsed": false,
     "input": [
      "print \"Negative case\", languages.search(\"We use node.js and jQuery\")\n",
      "print \"Positive case\", languages.search(\"We're seeking Python developers\")\n",
      "print \"Positive case\", languages.search(\"Have strong understandings of go language\")\n",
      "print \"Negative case\", languages.search(\"a GoPro camera\")"
     ],
     "language": "python",
     "metadata": {},
     "outputs": [
      {
       "output_type": "stream",
       "stream": "stdout",
       "text": [
        "Negative case None\n",
        "Positive case <_sre.SRE_Match object at 0x7f6e98fbebe0>\n",
        "Positive case <_sre.SRE_Match object at 0x7f6e98fbebe0>\n",
        "Negative case None\n"
       ]
      }
     ],
     "prompt_number": 41
    },
    {
     "cell_type": "code",
     "collapsed": false,
     "input": [
      "my_jobs = [x for x in remote_jobs if languages.search(x['text'])]"
     ],
     "language": "python",
     "metadata": {},
     "outputs": [],
     "prompt_number": 46
    },
    {
     "cell_type": "code",
     "collapsed": false,
     "input": [
      "print len(my_jobs)"
     ],
     "language": "python",
     "metadata": {},
     "outputs": [
      {
       "output_type": "stream",
       "stream": "stdout",
       "text": [
        "8\n"
       ]
      }
     ],
     "prompt_number": 68
    },
    {
     "cell_type": "code",
     "collapsed": false,
     "input": [
      "from IPython.display import HTML\n",
      "HTML(r\"<hr/>\".join([x['html'] for x in my_jobs]))"
     ],
     "language": "python",
     "metadata": {},
     "outputs": [
      {
       "html": [
        "<font color=\"#000000\">Counterparty - REMOTE - <a href=\"http://counterparty.io\" rel=\"nofollow\">http://counterparty.io</a><p>Counterparty is a freely licensed and open-source platform for peer-to-peer finance that lives on the Bitcoin blockchain. The network has been live since January, and it has seen over 130k transactions since then.[1] Overstock.com recently announced that it would be building the world's first SEC-regulated stock market for cryptosecurities on our platform.[2]</p><p>The non-profit Counterparty Foundation is hiring a developer to join a team of two (myself and one other) dedicated to further developing the Counterparty Protocol and software ecosystem (e.g. wallet software, block explorers). Experience with Python is strongly preferred, as much of the work will be with the protocol's reference implementation, counterpartyd.[3]</p><p>It goes without saying that this is an unconventional position requiring a great deal of independence, self-direction and creativity. More details about the position: <a href=\"http://counterparty.io/jobs\" rel=\"nofollow\">http://counterparty.io/jobs</a></p><p>Contact: adamk@counterparty.io</p><p>Web Wallet: <a href=\"https://counterwallet.io\" rel=\"nofollow\">https://counterwallet.io</a></p><p>[1] - <a href=\"https://blockscan.com\" rel=\"nofollow\">https://blockscan.com</a></p><p>[2] - <a href=\"http://www.coindesk.com/overstock-hires-counterparty-develop...\" rel=\"nofollow\">http://www.coindesk.com/overstock-hires-counterparty-develop...</a>.</p><p>[3] - <a href=\"https://github.com/CounterpartyXCP/counterpartyd\" rel=\"nofollow\">https://github.com/CounterpartyXCP/counterpartyd</a></p></font><hr/><font color=\"#000000\">Akselos (Software Engineer, Boston or REMOTE)<p>-------------------------</p><p>Akselos provides an advanced cloud-based engineering simulation platform for \"accelerated Finite Element Analysis\" based on over 10 years of award-winning research at MIT. This platform enables engineers to perform detailed, fully-3D analysis of large-scale complex systems in seconds, which eliminates a major pain point across a wide range of engineering disciplines.</p><p>We currently have major engineering firms from the mining and power systems industries as customers. Our software has been used by over 7000 students in an engineering course on edX. Also, we were recently featured on the Google Cloud Platform blog:\n",
        "<a href=\"http://googlecloudplatform.blogspot.ca/2014/12/mitxs-edx-course-uses-akselos-for-complex-engineering-simulations-on-Compute-Engine.html\" rel=\"nofollow\">http://googlecloudplatform.blogspot.ca/2014/12/mitxs-edx-cou...</a></p><p>We have offices in Boston, Lausanne and Ho Chi Minh City. Working remotely is a possibility.</p><p>-------------------------</p><p>Send job inquiries to: jobs@akselos.com (or contact me directly at david.knezevic@akselos.com)</p><p>We're looking for a Software Engineer to assist with our GUI development. The GUI is written in Python (Qt bindings) and allows users to create 3D models, send simulation requests to our cloud-based back-end and then render the results locally. For more info about the GUI see:</p><p><a href=\"http://www.akselos.com/platform/akselos-assembler.html\" rel=\"nofollow\">http://www.akselos.com/platform/akselos-assembler.html</a></p><p><a href=\"https://www.youtube.com/watch?v=7cL2hn2wpoA\" rel=\"nofollow\">https://www.youtube.com/watch?v=7cL2hn2wpoA</a></p><p>More info about open positions is available here:\n",
        "<a href=\"http://www.akselos.com/join_the_team.html\" rel=\"nofollow\">http://www.akselos.com/join_the_team.html</a></p><p>-------------------------</p></font><hr/><font color=\"#000000\">One of our offices: Shanghai, China<p>We build products at the intersection of technology around data. Lots of data visualization, big data and infrastructure.</p><p>We work with large organizations on challenging problems (the World Bank, the United Nations, CNN) OR on our own products (mostly developer tools, things like <a href=\"http://devo.ps\" rel=\"nofollow\">http://devo.ps</a> or <a href=\"http://sweepboard.com\" rel=\"nofollow\">http://sweepboard.com</a>).</p><p>We are a multicultural team with French, American, British, Chinese, Dutch and Finnish colleagues. We are about to settle a third office in Berlin and are looking at remote hiring in Spain and Seoul.</p><p>We work a lot with Javascript (node.js, AngularJS), Python, occasionally Go and Erlang. Lots of single page apps, APIs and infrastructure automation.</p><p>We are looking for full-time or interns:</p><p>- Developers; front-end (HTML5 + Compass + AngularJS), backend (node.js, Python), ops (Python, Go).</p><p>- CSS/HTML Designer Director; you have design chops, understand technology (HTML/CSS...) and do more than nice pictures (content strategy, color theory, ...). <a href=\"http://careers.wiredcraft.com/jobs/design-director/\" rel=\"nofollow\">http://careers.wiredcraft.com/jobs/design-director/</a></p><p>- Strategist; you can quickly immerse yourself in a new field of knowledge, have a knack for data and are quick at recognizing patterns. You are a jack-of-all-trades that can think a solution and get it shipped, either alone or with a team.</p><p>- Online Marketing Intern; you have what it takes to grow a brand or product online and understand how to leverage online and offline tools to get there. <a href=\"http://careers.wiredcraft.com/jobs/online-marketing-intern/\" rel=\"nofollow\">http://careers.wiredcraft.com/jobs/online-marketing-intern/</a></p><p>- Business Development; if you are in Washington DC, Berlin or Paris, understand enough of our space and would like to help us grow our services, shoot us an email.</p><p>Join us, build sh*t that matters.</p><p>Drop me a line at job@wiredcraft.com, or go to <a href=\"http://wiredcraft.com/careers.html\" rel=\"nofollow\">http://wiredcraft.com/careers.html</a></p></font><hr/><font color=\"#000000\">Application Software Engineer (Anywhere, U.S. / Remote)<p>Prometheus Research builds open source RexDB (<a href=\"http://www.rexdb.org\" rel=\"nofollow\">http://www.rexdb.org</a>) software, and delivers custom applications to help medical researchers organize complex data. We're an established organization based in New Haven, CT, that has most of its staff working remotely (even those in New Haven often work from home).</p><p>We have two software development positions described at\n",
        "<a href=\"https://docs.google.com/a/prometheusresearch.com/document/d/1vBhWV7aSb7S8iaSt1ktpw7eAx_js-C1_EXqmtSDYjCw/\" rel=\"nofollow\">https://docs.google.com/a/prometheusresearch.com/document/d/...</a></p><p>Development tools we use:</p><p>* Linux/Docker for our development/deployment system</p><p>* PostgreSQL for our backend database, using HTSQL</p><p>* Python for server-side code, using RexDB platform</p><p>* Javascript for client, using Facebook's React</p><p>* reStructuredText/Sphinx for documentation</p><p>We need someone who has a passion for documentation and quality software; yet, understands that we're a consulting organization. We provide a mix of open source work and client-facing (usually proprietary) development. If you are interested, send email to hn-201501@prometheusresearch.com</p></font><hr/><font color=\"#000000\">One of our offices: Shanghai, China<p>We build products at the intersection of technology around data. Lots of data visualization, big data and infrastructure.</p><p>We work with large organizations on challenging problems (the World Bank, the United Nations, CNN) OR on our own products (mostly developer tools, things like <a href=\"http://devo.ps\" rel=\"nofollow\">http://devo.ps</a> or <a href=\"http://octokan.com\" rel=\"nofollow\">http://octokan.com</a>).</p><p>We are a multicultural team with French, American, British, Chinese, Korean, Dutch and Finnish colleagues. We are about to settle a third office in Berlin and are looking at remote hiring in Spain and Seoul.</p><p>We work a lot with Javascript (node.js, AngularJS), Python, occasionally Go and Erlang. Lots of single page apps, APIs and infrastructure automation.</p><p>We are looking for full-time or interns:</p><p>- Developers; front-end (HTML5 + Compass + AngularJS), backend (node.js, Python), ops (Python, Go).</p><p>- Designers; you have design chops, understand technology (HTML/CSS...) and do more than nice pictures (content strategy, color theory, ...).</p><p>- Strategist; you can quickly immerse yourself in a new field of knowledge, have a knack for data and are quick at recognizing patterns. You are a jack-of-all-trades that can think a solution and get it shipped, either alone or with a team.</p><p>- Marketing; you have what it takes to grow a brand or product online and understand how to leverage online and offline tools to get there.</p><p>- Business Development; if you are in Washington DC, Berlin or Paris, understand enough of our space and would like to help us grow our services, shoot us an email.</p><p>Drop me a line at job@wiredcraft.com, or go to <a href=\"http://wiredcraft.com/careers.html\" rel=\"nofollow\">http://wiredcraft.com/careers.html</a></p></font><hr/><font color=\"#000000\">Snowdrift.coop - REMOTE - Lead Programmer - Full-Time<p>We're looking for someone to replace me on Snowdrift, except for you it'll be a paid position.</p><p>Haskell/Yesod/PosgreSQL backend, HTML/CSS/JS frontend</p><p>Most recent info here: <a href=\"https://snowdrift.coop/p/snowdrift/w/en/jobs\" rel=\"nofollow\">https://snowdrift.coop/p/snowdrift/w/en/jobs</a></p></font><hr/><font color=\"#000000\">Expensify-San Francisco, CA-Fulltime, Programmer Extraordinaire<p>Hey there! Allow us to introduce ourselves. We are Expensify and we do \"expense reports that don't suck!\" (Google \"expensify\" to read more.) We're getting crushed under an ever-growing pile of super awesome work, and I need one bright soul to help us dig our way out. I can guarantee you fun, an amazing opportunity to learn, and the siren's call of distant riches. But only if you are all of the following:</p><p>- An incredibly hard worker, even when it's not so fun. There is a ton of work to do, and a lot of it downright sucks. After all \u00e2\u0080\u0094 we do the sucky work so our customers won't need to. I need you to buck up and grind through server logs, user emails, source code, and bug reports, without complaint or supervision, and come back asking for more.</p><p>- A cool person to be with. Not a crazy party animal, just someone we can trust, rely upon, hang out with, bounce ideas off of, and generally interact with in a positive way, both personally and professionally. In fact, this is one of the most stringent requirements we have: would you be fun to hang out with day and night on some remote, exotic beach? This isn't a rhetorical question, either: every year we take the company overseas for a month and work incredibly hard while having a ton of fun. We've done Thailand, Mexico, India, Turkey, Croatia and the Philippines. We just went to Portugal...where do you want to go next?</p><p>- Super talented, in a general way. We're going to throw a ton of work at you of every possible sort, and you need that magic skill of being able to figure it out even if you have no idea where to start. On any given day you might bounce between super low-level coding, super high-level technical support, marketing-driven data-mining, updating our user documentation, inventing/designing/building some new feature, etc. This is not a code monkey job \u00e2\u0080\u0094 you're going to be a full participant in the process, and you need to bring your own unique blend of skills to the table.</p><p>- Specifically talented in a programming way. You can instantly visualize solutions to problems big and small. Your code is always clean, well commented, has good nomenclature and indentation. You can switch on a dime between C++, PHP, Bash, Cron, HTML, CSS, JavaScript, jQuery, Dwoo, SQL \u00e2\u0080\u0094 not because you know them all, but because you're the sort of person who can just pick it up and figure it out. If you're this sort of person, you'll know what I mean. If not, then this position isn't for you.</p><p>And there are a bunch more, but odds are if you got this far, nothing I can do would stop you from applying. That's a problem because while I know you are awesome, it's actually really hard and time consuming to find you in the midst of the literally hundreds of other applications I get from everyone else. So this is where I'm going to ask my first favor: can you make it really easy and obvious how great you are, so I don't accidentally overlook you?</p><p>There are probably many ways to do that. But the easiest way to do that is to check out we.are.expensify.com and send in an application(which you can find at <a href=\"http://we.are.expensify.com/apply\" rel=\"nofollow\">http://we.are.expensify.com/apply</a>).</p><p>We are excited to hear from you!</p></font><hr/><font color=\"#000000\">MaxMind - <a href=\"https://www.maxmind.com/\" rel=\"nofollow\">https://www.maxmind.com/</a> - REMOTE (US and Canada)<p>Email careers@maxmind.com. See <a href=\"https://www.maxmind.com/en/careers\" rel=\"nofollow\">https://www.maxmind.com/en/careers</a> for more information.</p><p>= Frontend Software Engineer</p><p>The successful applicant will be able to demonstrate strong experience and knowledge in each of the following areas. We'll give you a homework assignment that will give you an opportunity to show us your skills.</p><p>* Strong knowledge of JavaScript, including at least one framework such as AngularJS, Ember, or Backbone</p><p>* Experience writing unit and integration tests for frontend JavaScript code</p><p>* Extensive knowledge of modern CSS and HTML</p><p>* Experience with CSS frameworks like Bootstrap as well as CSS preprocessors such as Less or Sass</p><p>* Experience with responsive web design</p><p>* Experience with revision control, preferably Git</p><p>* Excellent written and spoken communication skills</p><p>* The ability to work with a geographically dispersed team</p><p>It's also a big plus if you have any of the following:</p><p>* Experience with CMS tools such as WordPress or Drupal</p><p>* Working knowledge of graphic design tools such as Photoshop and Illustrator</p><p>* Backend development experience, especially with the implementation of RESTful APIs</p><p>* User interface and experience design skills</p><p>The salary range for this position starts at $110k/year and is negotiable depending on experience.</p><p>= Senior Software Engineer</p><p>Minimum Qualifications</p><p>* Dynamic language programming experience. We use Perl but we're happy to hear from Javascript, PHP, Python, or Ruby developers as well.</p><p>* Web development, especially RESTful web services.</p><p>* Experience developing for deployment on a Linux or BSD platform.</p><p>* Experience writing tests and documentation.</p><p>* Experience doing code reviews.</p><p>* Excellent written and spoken communication skills.</p><p>* The ability to work with a geographically dispersed team.</p><p>Bonus skills</p><p>* Data mining, number crunching, and math skills.</p><p>* Experience writing C, especially libraries.</p><p>* Experience writing Go.</p><p>* FS/OSS contributions. Tell us about them!</p><p>Compensation includes a starting salary of $120-150k/year and participation in a performance-based bonus plan.</p></font>"
       ],
       "metadata": {},
       "output_type": "pyout",
       "prompt_number": 78,
       "text": [
        "<IPython.core.display.HTML object at 0x7f6e810aa890>"
       ]
      }
     ],
     "prompt_number": 78
    },
    {
     "cell_type": "heading",
     "level": 1,
     "metadata": {},
     "source": [
      "Job Statistics"
     ]
    },
    {
     "cell_type": "code",
     "collapsed": false,
     "input": [
      "import pandas as pd"
     ],
     "language": "python",
     "metadata": {},
     "outputs": [],
     "prompt_number": 49
    },
    {
     "cell_type": "code",
     "collapsed": false,
     "input": [
      "statistics = []\n",
      "cap = 5\n",
      "for p_date, listing in listings.items():\n",
      "    if cap == 0:\n",
      "        break\n",
      "    cap -= 1\n",
      "    jobs = joblisting.JobListing(listing.permanent)\n",
      "    remote_jobs = [x for x in jobs if remote.search(x['text'])]\n",
      "    statistics.append((p_date, len(jobs), len(remote_jobs)))\n",
      "statistics = pd.DataFrame(statistics, columns=['date', 'total', 'remote'])"
     ],
     "language": "python",
     "metadata": {},
     "outputs": [],
     "prompt_number": 60
    },
    {
     "cell_type": "code",
     "collapsed": false,
     "input": [
      "statistics['ratio'] = statistics['remote'] * 100.0 / statistics['total']\n",
      "statistics"
     ],
     "language": "python",
     "metadata": {},
     "outputs": [
      {
       "html": [
        "<div style=\"max-height:1000px;max-width:1500px;overflow:auto;\">\n",
        "<table border=\"1\" class=\"dataframe\">\n",
        "  <thead>\n",
        "    <tr style=\"text-align: right;\">\n",
        "      <th></th>\n",
        "      <th>date</th>\n",
        "      <th>total</th>\n",
        "      <th>remote</th>\n",
        "      <th>ratio</th>\n",
        "    </tr>\n",
        "  </thead>\n",
        "  <tbody>\n",
        "    <tr>\n",
        "      <th>0</th>\n",
        "      <td> 2015-01-01</td>\n",
        "      <td> 275</td>\n",
        "      <td> 50</td>\n",
        "      <td> 18.181818</td>\n",
        "    </tr>\n",
        "    <tr>\n",
        "      <th>1</th>\n",
        "      <td> 2014-12-01</td>\n",
        "      <td> 468</td>\n",
        "      <td> 77</td>\n",
        "      <td> 16.452991</td>\n",
        "    </tr>\n",
        "    <tr>\n",
        "      <th>2</th>\n",
        "      <td> 2014-11-01</td>\n",
        "      <td> 347</td>\n",
        "      <td> 59</td>\n",
        "      <td> 17.002882</td>\n",
        "    </tr>\n",
        "    <tr>\n",
        "      <th>3</th>\n",
        "      <td> 2014-10-01</td>\n",
        "      <td> 356</td>\n",
        "      <td> 53</td>\n",
        "      <td> 14.887640</td>\n",
        "    </tr>\n",
        "    <tr>\n",
        "      <th>4</th>\n",
        "      <td> 2014-09-01</td>\n",
        "      <td> 283</td>\n",
        "      <td> 61</td>\n",
        "      <td> 21.554770</td>\n",
        "    </tr>\n",
        "  </tbody>\n",
        "</table>\n",
        "<p>5 rows \u00d7 4 columns</p>\n",
        "</div>"
       ],
       "metadata": {},
       "output_type": "pyout",
       "prompt_number": 64,
       "text": [
        "         date  total  remote      ratio\n",
        "0  2015-01-01    275      50  18.181818\n",
        "1  2014-12-01    468      77  16.452991\n",
        "2  2014-11-01    347      59  17.002882\n",
        "3  2014-10-01    356      53  14.887640\n",
        "4  2014-09-01    283      61  21.554770\n",
        "\n",
        "[5 rows x 4 columns]"
       ]
      }
     ],
     "prompt_number": 64
    }
   ],
   "metadata": {}
  }
 ]
}