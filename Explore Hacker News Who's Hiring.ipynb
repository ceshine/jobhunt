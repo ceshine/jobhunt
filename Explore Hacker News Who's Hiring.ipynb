{
 "metadata": {
  "name": "",
  "signature": "sha256:7d24d7ba7f6046efc20328921ada1b874153471e423c19b03b412743041f318c"
 },
 "nbformat": 3,
 "nbformat_minor": 0,
 "worksheets": [
  {
   "cells": [
    {
     "cell_type": "code",
     "collapsed": false,
     "input": [
      "from whoishiring import whlisting, joblisting"
     ],
     "language": "python",
     "metadata": {},
     "outputs": [],
     "prompt_number": 2
    },
    {
     "cell_type": "code",
     "collapsed": false,
     "input": [
      "listings = whlisting.WHListing()\n",
      "print len(listings)\n"
     ],
     "language": "python",
     "metadata": {},
     "outputs": [
      {
       "output_type": "stream",
       "stream": "stdout",
       "text": [
        "45\n"
       ]
      },
      {
       "ename": "NameError",
       "evalue": "name 'listing' is not defined",
       "output_type": "pyerr",
       "traceback": [
        "\u001b[1;31m---------------------------------------------------------------------------\u001b[0m\n\u001b[1;31mNameError\u001b[0m                                 Traceback (most recent call last)",
        "\u001b[1;32m<ipython-input-29-f1bbcdbcccba>\u001b[0m in \u001b[0;36m<module>\u001b[1;34m()\u001b[0m\n\u001b[0;32m      1\u001b[0m \u001b[0mlistings\u001b[0m \u001b[1;33m=\u001b[0m \u001b[0mwhlisting\u001b[0m\u001b[1;33m.\u001b[0m\u001b[0mWHListing\u001b[0m\u001b[1;33m(\u001b[0m\u001b[1;33m)\u001b[0m\u001b[1;33m\u001b[0m\u001b[0m\n\u001b[0;32m      2\u001b[0m \u001b[1;32mprint\u001b[0m \u001b[0mlen\u001b[0m\u001b[1;33m(\u001b[0m\u001b[0mlistings\u001b[0m\u001b[1;33m)\u001b[0m\u001b[1;33m\u001b[0m\u001b[0m\n\u001b[1;32m----> 3\u001b[1;33m \u001b[1;32mprint\u001b[0m \u001b[0mlisting\u001b[0m\u001b[1;33m.\u001b[0m\u001b[0mlatest\u001b[0m\u001b[1;33m.\u001b[0m\u001b[0mpermanent\u001b[0m\u001b[1;33m\u001b[0m\u001b[0m\n\u001b[0m",
        "\u001b[1;31mNameError\u001b[0m: name 'listing' is not defined"
       ]
      }
     ],
     "prompt_number": 29
    },
    {
     "cell_type": "code",
     "collapsed": false,
     "input": [
      "print listings.latest.permanent"
     ],
     "language": "python",
     "metadata": {},
     "outputs": [
      {
       "output_type": "stream",
       "stream": "stdout",
       "text": [
        "HNListingItem(title='Ask HN: Who is hiring? (January 2015)', permanent='permanent', url='item?id=8822808', date=datetime.date(2015, 1, 1))\n"
       ]
      }
     ],
     "prompt_number": 30
    },
    {
     "cell_type": "code",
     "collapsed": false,
     "input": [
      "j = joblisting.JobListing(listings.latest.permanent)"
     ],
     "language": "python",
     "metadata": {},
     "outputs": [],
     "prompt_number": 25
    },
    {
     "cell_type": "code",
     "collapsed": false,
     "input": [
      "j.date"
     ],
     "language": "python",
     "metadata": {},
     "outputs": [
      {
       "metadata": {},
       "output_type": "pyout",
       "prompt_number": 26,
       "text": [
        "datetime.date(2015, 1, 1)"
       ]
      }
     ],
     "prompt_number": 26
    },
    {
     "cell_type": "code",
     "collapsed": false,
     "input": [
      "j[1]"
     ],
     "language": "python",
     "metadata": {},
     "outputs": [
      {
       "metadata": {},
       "output_type": "pyout",
       "prompt_number": 27,
       "text": [
        "{'author': 'user?id=leowidrich',\n",
        " 'date': datetime.date(2015, 1, 1),\n",
        " 'html': '<font color=\"#000000\">Buffer (<a href=\"http://bufferapp.com\" rel=\"nofollow\">http://bufferapp.com</a>) - from wherever you want to be in the world (fully remote), we\\'re looking for a Product Designer.<p>Over 30,000 people pay for a Buffer subscription to help them with their social media efforts, which helps us generate $420k MRR. With that we spend about $223k/mo on salaries, which is about 66% of our total spending (<a href=\"https://open.bufferapp.com/transparent-pricing-buffer/\" rel=\"nofollow\">https://open.bufferapp.com/transparent-pricing-buffer/</a>).</p><p>We work without managers and are fully self-managing. You pick your own projects, recruit team members from within the company or join task forces that you find interesting ( <a href=\"https://open.bufferapp.com/decision-maker-no-managers-experiment/\" rel=\"nofollow\">https://open.bufferapp.com/decision-maker-no-managers-experi...</a>)</p><p>Like with everything else, our hiring process is fully transparent (more here <a href=\"https://open.bufferapp.com/how-we-hire/\" rel=\"nofollow\">https://open.bufferapp.com/how-we-hire/</a> )</p><p>There are so many exciting projects people are working on and it\\'d be awesome to have you lead the design efforts product experience of some of them. Just email Brian Lovin from this page: <a href=\"http://jobs.bufferapp.com/designer\" rel=\"nofollow\">http://jobs.bufferapp.com/designer</a> and he\\'ll be in touch.</p><p>If you have any questions about how we work, I\\'d love to answer them.</p></font>',\n",
        " 'parent_thread': 'item?id=8822808',\n",
        " 'permanent': 'permanent',\n",
        " 'text': \"Buffer ( http://bufferapp.com ) - from wherever you want to be in the world (fully remote), we're looking for a Product Designer. Over 30,000 people pay for a Buffer subscription to help them with their social media efforts, which helps us generate $420k MRR. With that we spend about $223k/mo on salaries, which is about 66% of our total spending ( https://open.bufferapp.com/transparent-pricing-buffer/ ). We work without managers and are fully self-managing. You pick your own projects, recruit team members from within the company or join task forces that you find interesting ( https://open.bufferapp.com/decision-maker-no-managers-experi... ) Like with everything else, our hiring process is fully transparent (more here https://open.bufferapp.com/how-we-hire/ ) There are so many exciting projects people are working on and it'd be awesome to have you lead the design efforts product experience of some of them. Just email Brian Lovin from this page: http://jobs.bufferapp.com/designer and he'll be in touch. If you have any questions about how we work, I'd love to answer them.\",\n",
        " 'url': 'item?id=8823328'}"
       ]
      }
     ],
     "prompt_number": 27
    },
    {
     "cell_type": "heading",
     "level": 1,
     "metadata": {},
     "source": [
      "Find Remote Jobs"
     ]
    },
    {
     "cell_type": "code",
     "collapsed": false,
     "input": [
      "import re\n",
      "remote = re.compile(\"(?<!no) remote\", re.IGNORECASE)"
     ],
     "language": "python",
     "metadata": {},
     "outputs": [],
     "prompt_number": 14
    },
    {
     "cell_type": "code",
     "collapsed": false,
     "input": [
      "print \"Negative case\", remote.search(\"sorry no remote\")\n",
      "print \"Positive case\", remote.search(\"yes remote ok\")"
     ],
     "language": "python",
     "metadata": {},
     "outputs": [
      {
       "output_type": "stream",
       "stream": "stdout",
       "text": [
        "Negative case None\n",
        "Positive case <_sre.SRE_Match object at 0x7fab9c08dbf8>\n"
       ]
      }
     ],
     "prompt_number": 15
    },
    {
     "cell_type": "code",
     "collapsed": false,
     "input": [
      "remote_jobs = [x for x in j if remote.search(x['text'])]"
     ],
     "language": "python",
     "metadata": {},
     "outputs": [],
     "prompt_number": 16
    },
    {
     "cell_type": "code",
     "collapsed": false,
     "input": [
      "print len(remote_jobs)\n",
      "print len(j)"
     ],
     "language": "python",
     "metadata": {},
     "outputs": [
      {
       "output_type": "stream",
       "stream": "stdout",
       "text": [
        "50\n",
        "275\n"
       ]
      }
     ],
     "prompt_number": 28
    },
    {
     "cell_type": "heading",
     "level": 1,
     "metadata": {},
     "source": [
      "Find Jobs which Provide VISA"
     ]
    },
    {
     "cell_type": "code",
     "collapsed": false,
     "input": [
      "visa = re.compile(\"(?<!no) visa\", re.IGNORECASE)"
     ],
     "language": "python",
     "metadata": {},
     "outputs": [],
     "prompt_number": 45
    },
    {
     "cell_type": "code",
     "collapsed": false,
     "input": [
      "visa_jobs = [x for x in j if visa.search(x['text'])]"
     ],
     "language": "python",
     "metadata": {},
     "outputs": [],
     "prompt_number": 46
    },
    {
     "cell_type": "code",
     "collapsed": false,
     "input": [
      "print len(visa_jobs)\n",
      "print len(j)"
     ],
     "language": "python",
     "metadata": {},
     "outputs": [
      {
       "output_type": "stream",
       "stream": "stdout",
       "text": [
        "26\n",
        "275\n"
       ]
      }
     ],
     "prompt_number": 47
    },
    {
     "cell_type": "heading",
     "level": 1,
     "metadata": {},
     "source": [
      "More Criteria"
     ]
    },
    {
     "cell_type": "code",
     "collapsed": false,
     "input": [
      "languages = re.compile(r\"( python )|((?<!\\w)go(?!\\w))|(Haskell)|(Statistics)|(Statistical)\", re.IGNORECASE)"
     ],
     "language": "python",
     "metadata": {},
     "outputs": [],
     "prompt_number": 31
    },
    {
     "cell_type": "code",
     "collapsed": false,
     "input": [
      "print \"Negative case\", languages.search(\"We use node.js and jQuery\")\n",
      "print \"Positive case\", languages.search(\"We're seeking Python developers\")\n",
      "print \"Positive case\", languages.search(\"Have strong understandings of go language\")\n",
      "print \"Negative case\", languages.search(\"a GoPro camera\")"
     ],
     "language": "python",
     "metadata": {},
     "outputs": [
      {
       "output_type": "stream",
       "stream": "stdout",
       "text": [
        "Negative case None\n",
        "Positive case <_sre.SRE_Match object at 0x7fab9c2fe5f0>\n",
        "Positive case <_sre.SRE_Match object at 0x7fab9c2fe5f0>\n",
        "Negative case None\n"
       ]
      }
     ],
     "prompt_number": 32
    },
    {
     "cell_type": "code",
     "collapsed": false,
     "input": [
      "my_remote_jobs = [x for x in remote_jobs if languages.search(x['text'])]"
     ],
     "language": "python",
     "metadata": {},
     "outputs": [],
     "prompt_number": 37
    },
    {
     "cell_type": "code",
     "collapsed": false,
     "input": [
      "print len(my_jobs)"
     ],
     "language": "python",
     "metadata": {},
     "outputs": [
      {
       "output_type": "stream",
       "stream": "stdout",
       "text": [
        "8\n"
       ]
      }
     ],
     "prompt_number": 38
    },
    {
     "cell_type": "code",
     "collapsed": false,
     "input": [
      "from IPython.display import HTML\n",
      "HTML(r\"<hr/>\".join([x['html'] for x in my_remote_jobs]))"
     ],
     "language": "python",
     "metadata": {},
     "outputs": [
      {
       "html": [
        "<font color=\"#000000\">Counterparty - REMOTE - <a href=\"http://counterparty.io\" rel=\"nofollow\">http://counterparty.io</a><p>Counterparty is a freely licensed and open-source platform for peer-to-peer finance that lives on the Bitcoin blockchain. The network has been live since January, and it has seen over 130k transactions since then.[1] Overstock.com recently announced that it would be building the world's first SEC-regulated stock market for cryptosecurities on our platform.[2]</p><p>The non-profit Counterparty Foundation is hiring a developer to join a team of two (myself and one other) dedicated to further developing the Counterparty Protocol and software ecosystem (e.g. wallet software, block explorers). Experience with Python is strongly preferred, as much of the work will be with the protocol's reference implementation, counterpartyd.[3]</p><p>It goes without saying that this is an unconventional position requiring a great deal of independence, self-direction and creativity. More details about the position: <a href=\"http://counterparty.io/jobs\" rel=\"nofollow\">http://counterparty.io/jobs</a></p><p>Contact: adamk@counterparty.io</p><p>Web Wallet: <a href=\"https://counterwallet.io\" rel=\"nofollow\">https://counterwallet.io</a></p><p>[1] - <a href=\"https://blockscan.com\" rel=\"nofollow\">https://blockscan.com</a></p><p>[2] - <a href=\"http://www.coindesk.com/overstock-hires-counterparty-develop...\" rel=\"nofollow\">http://www.coindesk.com/overstock-hires-counterparty-develop...</a>.</p><p>[3] - <a href=\"https://github.com/CounterpartyXCP/counterpartyd\" rel=\"nofollow\">https://github.com/CounterpartyXCP/counterpartyd</a></p></font><hr/><font color=\"#000000\">Akselos (Software Engineer, Boston or REMOTE)<p>-------------------------</p><p>Akselos provides an advanced cloud-based engineering simulation platform for \"accelerated Finite Element Analysis\" based on over 10 years of award-winning research at MIT. This platform enables engineers to perform detailed, fully-3D analysis of large-scale complex systems in seconds, which eliminates a major pain point across a wide range of engineering disciplines.</p><p>We currently have major engineering firms from the mining and power systems industries as customers. Our software has been used by over 7000 students in an engineering course on edX. Also, we were recently featured on the Google Cloud Platform blog:\n",
        "<a href=\"http://googlecloudplatform.blogspot.ca/2014/12/mitxs-edx-course-uses-akselos-for-complex-engineering-simulations-on-Compute-Engine.html\" rel=\"nofollow\">http://googlecloudplatform.blogspot.ca/2014/12/mitxs-edx-cou...</a></p><p>We have offices in Boston, Lausanne and Ho Chi Minh City. Working remotely is a possibility.</p><p>-------------------------</p><p>Send job inquiries to: jobs@akselos.com (or contact me directly at david.knezevic@akselos.com)</p><p>We're looking for a Software Engineer to assist with our GUI development. The GUI is written in Python (Qt bindings) and allows users to create 3D models, send simulation requests to our cloud-based back-end and then render the results locally. For more info about the GUI see:</p><p><a href=\"http://www.akselos.com/platform/akselos-assembler.html\" rel=\"nofollow\">http://www.akselos.com/platform/akselos-assembler.html</a></p><p><a href=\"https://www.youtube.com/watch?v=7cL2hn2wpoA\" rel=\"nofollow\">https://www.youtube.com/watch?v=7cL2hn2wpoA</a></p><p>More info about open positions is available here:\n",
        "<a href=\"http://www.akselos.com/join_the_team.html\" rel=\"nofollow\">http://www.akselos.com/join_the_team.html</a></p><p>-------------------------</p></font><hr/><font color=\"#000000\">Application Software Engineer (Anywhere, U.S. / Remote)<p>Prometheus Research builds open source RexDB (<a href=\"http://www.rexdb.org\" rel=\"nofollow\">http://www.rexdb.org</a>) software, and delivers custom applications to help medical researchers organize complex data. We're an established organization based in New Haven, CT, that has most of its staff working remotely (even those in New Haven often work from home).</p><p>We have two software development positions described at\n",
        "<a href=\"https://docs.google.com/a/prometheusresearch.com/document/d/1vBhWV7aSb7S8iaSt1ktpw7eAx_js-C1_EXqmtSDYjCw/\" rel=\"nofollow\">https://docs.google.com/a/prometheusresearch.com/document/d/...</a></p><p>Development tools we use:</p><p>* Linux/Docker for our development/deployment system</p><p>* PostgreSQL for our backend database, using HTSQL</p><p>* Python for server-side code, using RexDB platform</p><p>* Javascript for client, using Facebook's React</p><p>* reStructuredText/Sphinx for documentation</p><p>We need someone who has a passion for documentation and quality software; yet, understands that we're a consulting organization. We provide a mix of open source work and client-facing (usually proprietary) development. If you are interested, send email to hn-201501@prometheusresearch.com</p></font><hr/><font color=\"#000000\">One of our offices: Shanghai, China<p>We build products at the intersection of technology around data. Lots of data visualization, big data and infrastructure.</p><p>We work with large organizations on challenging problems (the World Bank, the United Nations, CNN) OR on our own products (mostly developer tools, things like <a href=\"http://devo.ps\" rel=\"nofollow\">http://devo.ps</a> or <a href=\"http://octokan.com\" rel=\"nofollow\">http://octokan.com</a>).</p><p>We are a multicultural team with French, American, British, Chinese, Korean, Dutch and Finnish colleagues. We are about to settle a third office in Berlin and are looking at remote hiring in Spain and Seoul.</p><p>We work a lot with Javascript (node.js, AngularJS), Python, occasionally Go and Erlang. Lots of single page apps, APIs and infrastructure automation.</p><p>We are looking for full-time or interns:</p><p>- Developers; front-end (HTML5 + Compass + AngularJS), backend (node.js, Python), ops (Python, Go).</p><p>- Designers; you have design chops, understand technology (HTML/CSS...) and do more than nice pictures (content strategy, color theory, ...).</p><p>- Strategist; you can quickly immerse yourself in a new field of knowledge, have a knack for data and are quick at recognizing patterns. You are a jack-of-all-trades that can think a solution and get it shipped, either alone or with a team.</p><p>- Marketing; you have what it takes to grow a brand or product online and understand how to leverage online and offline tools to get there.</p><p>- Business Development; if you are in Washington DC, Berlin or Paris, understand enough of our space and would like to help us grow our services, shoot us an email.</p><p>Drop me a line at job@wiredcraft.com, or go to <a href=\"http://wiredcraft.com/careers.html\" rel=\"nofollow\">http://wiredcraft.com/careers.html</a></p></font><hr/><font color=\"#000000\">One of our offices: Shanghai, China<p>We build products at the intersection of technology around data. Lots of data visualization, big data and infrastructure.</p><p>We work with large organizations on challenging problems (the World Bank, the United Nations, CNN) OR on our own products (mostly developer tools, things like <a href=\"http://devo.ps\" rel=\"nofollow\">http://devo.ps</a> or <a href=\"http://sweepboard.com\" rel=\"nofollow\">http://sweepboard.com</a>).</p><p>We are a multicultural team with French, American, British, Chinese, Dutch and Finnish colleagues. We are about to settle a third office in Berlin and are looking at remote hiring in Spain and Seoul.</p><p>We work a lot with Javascript (node.js, AngularJS), Python, occasionally Go and Erlang. Lots of single page apps, APIs and infrastructure automation.</p><p>We are looking for full-time or interns:</p><p>- Developers; front-end (HTML5 + Compass + AngularJS), backend (node.js, Python), ops (Python, Go).</p><p>- CSS/HTML Designer Director; you have design chops, understand technology (HTML/CSS...) and do more than nice pictures (content strategy, color theory, ...). <a href=\"http://careers.wiredcraft.com/jobs/design-director/\" rel=\"nofollow\">http://careers.wiredcraft.com/jobs/design-director/</a></p><p>- Strategist; you can quickly immerse yourself in a new field of knowledge, have a knack for data and are quick at recognizing patterns. You are a jack-of-all-trades that can think a solution and get it shipped, either alone or with a team.</p><p>- Online Marketing Intern; you have what it takes to grow a brand or product online and understand how to leverage online and offline tools to get there. <a href=\"http://careers.wiredcraft.com/jobs/online-marketing-intern/\" rel=\"nofollow\">http://careers.wiredcraft.com/jobs/online-marketing-intern/</a></p><p>- Business Development; if you are in Washington DC, Berlin or Paris, understand enough of our space and would like to help us grow our services, shoot us an email.</p><p>Join us, build sh*t that matters.</p><p>Drop me a line at job@wiredcraft.com, or go to <a href=\"http://wiredcraft.com/careers.html\" rel=\"nofollow\">http://wiredcraft.com/careers.html</a></p></font><hr/><font color=\"#000000\">Snowdrift.coop - REMOTE - Lead Programmer - Full-Time<p>We're looking for someone to replace me on Snowdrift, except for you it'll be a paid position.</p><p>Haskell/Yesod/PosgreSQL backend, HTML/CSS/JS frontend</p><p>Most recent info here: <a href=\"https://snowdrift.coop/p/snowdrift/w/en/jobs\" rel=\"nofollow\">https://snowdrift.coop/p/snowdrift/w/en/jobs</a></p></font><hr/><font color=\"#000000\">Expensify-San Francisco, CA-Fulltime, Programmer Extraordinaire<p>Hey there! Allow us to introduce ourselves. We are Expensify and we do \"expense reports that don't suck!\" (Google \"expensify\" to read more.) We're getting crushed under an ever-growing pile of super awesome work, and I need one bright soul to help us dig our way out. I can guarantee you fun, an amazing opportunity to learn, and the siren's call of distant riches. But only if you are all of the following:</p><p>- An incredibly hard worker, even when it's not so fun. There is a ton of work to do, and a lot of it downright sucks. After all \u00e2\u0080\u0094 we do the sucky work so our customers won't need to. I need you to buck up and grind through server logs, user emails, source code, and bug reports, without complaint or supervision, and come back asking for more.</p><p>- A cool person to be with. Not a crazy party animal, just someone we can trust, rely upon, hang out with, bounce ideas off of, and generally interact with in a positive way, both personally and professionally. In fact, this is one of the most stringent requirements we have: would you be fun to hang out with day and night on some remote, exotic beach? This isn't a rhetorical question, either: every year we take the company overseas for a month and work incredibly hard while having a ton of fun. We've done Thailand, Mexico, India, Turkey, Croatia and the Philippines. We just went to Portugal...where do you want to go next?</p><p>- Super talented, in a general way. We're going to throw a ton of work at you of every possible sort, and you need that magic skill of being able to figure it out even if you have no idea where to start. On any given day you might bounce between super low-level coding, super high-level technical support, marketing-driven data-mining, updating our user documentation, inventing/designing/building some new feature, etc. This is not a code monkey job \u00e2\u0080\u0094 you're going to be a full participant in the process, and you need to bring your own unique blend of skills to the table.</p><p>- Specifically talented in a programming way. You can instantly visualize solutions to problems big and small. Your code is always clean, well commented, has good nomenclature and indentation. You can switch on a dime between C++, PHP, Bash, Cron, HTML, CSS, JavaScript, jQuery, Dwoo, SQL \u00e2\u0080\u0094 not because you know them all, but because you're the sort of person who can just pick it up and figure it out. If you're this sort of person, you'll know what I mean. If not, then this position isn't for you.</p><p>And there are a bunch more, but odds are if you got this far, nothing I can do would stop you from applying. That's a problem because while I know you are awesome, it's actually really hard and time consuming to find you in the midst of the literally hundreds of other applications I get from everyone else. So this is where I'm going to ask my first favor: can you make it really easy and obvious how great you are, so I don't accidentally overlook you?</p><p>There are probably many ways to do that. But the easiest way to do that is to check out we.are.expensify.com and send in an application(which you can find at <a href=\"http://we.are.expensify.com/apply\" rel=\"nofollow\">http://we.are.expensify.com/apply</a>).</p><p>We are excited to hear from you!</p></font><hr/><font color=\"#000000\">MaxMind - <a href=\"https://www.maxmind.com/\" rel=\"nofollow\">https://www.maxmind.com/</a> - REMOTE (US and Canada)<p>Email careers@maxmind.com. See <a href=\"https://www.maxmind.com/en/careers\" rel=\"nofollow\">https://www.maxmind.com/en/careers</a> for more information.</p><p>= Frontend Software Engineer</p><p>The successful applicant will be able to demonstrate strong experience and knowledge in each of the following areas. We'll give you a homework assignment that will give you an opportunity to show us your skills.</p><p>* Strong knowledge of JavaScript, including at least one framework such as AngularJS, Ember, or Backbone</p><p>* Experience writing unit and integration tests for frontend JavaScript code</p><p>* Extensive knowledge of modern CSS and HTML</p><p>* Experience with CSS frameworks like Bootstrap as well as CSS preprocessors such as Less or Sass</p><p>* Experience with responsive web design</p><p>* Experience with revision control, preferably Git</p><p>* Excellent written and spoken communication skills</p><p>* The ability to work with a geographically dispersed team</p><p>It's also a big plus if you have any of the following:</p><p>* Experience with CMS tools such as WordPress or Drupal</p><p>* Working knowledge of graphic design tools such as Photoshop and Illustrator</p><p>* Backend development experience, especially with the implementation of RESTful APIs</p><p>* User interface and experience design skills</p><p>The salary range for this position starts at $110k/year and is negotiable depending on experience.</p><p>= Senior Software Engineer</p><p>Minimum Qualifications</p><p>* Dynamic language programming experience. We use Perl but we're happy to hear from Javascript, PHP, Python, or Ruby developers as well.</p><p>* Web development, especially RESTful web services.</p><p>* Experience developing for deployment on a Linux or BSD platform.</p><p>* Experience writing tests and documentation.</p><p>* Experience doing code reviews.</p><p>* Excellent written and spoken communication skills.</p><p>* The ability to work with a geographically dispersed team.</p><p>Bonus skills</p><p>* Data mining, number crunching, and math skills.</p><p>* Experience writing C, especially libraries.</p><p>* Experience writing Go.</p><p>* FS/OSS contributions. Tell us about them!</p><p>Compensation includes a starting salary of $120-150k/year and participation in a performance-based bonus plan.</p></font>"
       ],
       "metadata": {},
       "output_type": "pyout",
       "prompt_number": 35,
       "text": [
        "<IPython.core.display.HTML at 0x7fab8fdcf910>"
       ]
      }
     ],
     "prompt_number": 35
    },
    {
     "cell_type": "code",
     "collapsed": false,
     "input": [
      "my_visa_jobs = [x for x in visa_jobs if languages.search(x['text'])]"
     ],
     "language": "python",
     "metadata": {},
     "outputs": [],
     "prompt_number": 49
    },
    {
     "cell_type": "code",
     "collapsed": false,
     "input": [
      "print len(my_visa_jobs)"
     ],
     "language": "python",
     "metadata": {},
     "outputs": [
      {
       "output_type": "stream",
       "stream": "stdout",
       "text": [
        "9\n"
       ]
      }
     ],
     "prompt_number": 50
    },
    {
     "cell_type": "code",
     "collapsed": false,
     "input": [
      "from IPython.display import HTML\n",
      "HTML(r\"<hr/>\".join([x['html'] for x in my_visa_jobs]))"
     ],
     "language": "python",
     "metadata": {},
     "outputs": [
      {
       "html": [
        "<font color=\"#000000\">Backend Engineer, UX Designer (two separate positions) - Omniata, Helsinki, Finland - visa, full time<p>Founded by a team of former Digital Chocolate and EA data leads, Omniata (<a href=\"http://www.omniata.com\" rel=\"nofollow\">http://www.omniata.com</a>) integrates analytics, CRM, user engagement and A/B testing platforms into one solution. The company is well funded (<a href=\"http://www.creandum.com/why-creandum-invested-omniata/\" rel=\"nofollow\">http://www.creandum.com/why-creandum-invested-omniata/</a>) &amp; headquartered in SF. The bulk of R&amp;D will be done in the Helsinki office which at the moment only has a small team, so this is a great opportunity to get in early and grow with the company.</p><p>As a backend engineer you\u00e2\u0080\u0099ll be part of the team responsible for infrastructure code handling millions of events each month. Tasks will include improving existing components and creating new systems for scaling, automating and monitoring of processes. Knowledge of Perl &amp; Bash is expected, however if you\u00e2\u0080\u0099re more comfortable with another dynamic language like Python or Ruby and have a good grasp of low level Linux, we should still talk. Familiarity with C would also be an advantage.</p><p>As a UX designer you will be responsible for a creating the UIs and improving the UX of Omniata's web interfaces that allow Omniata's customers to make the most of their data. Basic knowledge of HTML, CSS and JavaScript would be a plus, but is not a must.</p><p>If you're at all interested in this area and Helsinki as a place to live and work, drop a one line email with a link to your LinkedIn and GitHub profile (in the case of backend) or portfolio (in the case of UX) to careers-hl@omniata.com</p></font><hr/><font color=\"#000000\">San Francisco - PlanGrid (YC12). Near 16th Street Mission BART. VISA, INTERN, FULL-TIME.<p>We sell an actual useful product for money (think version control for blueprints but our ambitions are much larger). We intend to own the construction software business, which is vastly under-served. The market is huge; construction is a multi-trillion dollar industry globally that still operates like they did in 1950. Our customers are so happy that up until the past three months we've had no marketing or sales whatsoever - we were profitable in year one just from word of mouth.</p><p>Our primary hiring philosophy is as follows: Wicked smart, NO DICKS.</p><p>We are looking for engineering and non-engineering positions.  You can see the jobs and/or apply here: <a href=\"http://grnh.se/r1nhcp\" rel=\"nofollow\">http://grnh.se/r1nhcp</a></p><p>* Senior iOS. We are shipping Swift code this month (see my Swift blog at <a href=\"http://russbishop.net\" rel=\"nofollow\">http://russbishop.net</a> ).</p><p>* Android. Small but growing team.</p><p>* Backend/API. Python and mongo, but we're investigating alternatives (Postgres? FoundationDB?) because we are steam-rolling to the trillion-with-a-capital-T mark on records.</p><p>* Windows. We are just starting this team so you have complete freedom. Will probably be C# with a shared library supporting a Desktop app and RT app.</p><p>* Data Science. You would think blueprints were created by professionals with standards. You'd be wrong. Put your machine learning skills to work on real world problems where a 1% improvement saves man-years of effort.</p><p>* Web. We do some real magic on the web; check out our blueprint annotating. This team is about to do some major re-factoring/re-writing with a focus on speed and maintainability.</p><p>Also hiring an IT Manager, Customer Support Heros, Marketing specialists, a Marketing Director, Field Sales, Biz Ops, and more.</p><p>Feel free to get in touch via my blog. I'm happy to answer any questions about what it's like to work at PlanGrid.</p></font><hr/><font color=\"#000000\">Mesosphere - <a href=\"https://mesosphere.com/jobs\" rel=\"nofollow\">https://mesosphere.com/jobs</a> - San Francisco, CA INTERN, VISA<p>Come build the operating system for the datacenter with Mesosphere!</p><p>We're a fast growing and well funded distributed systems / enterprise tech / infrastructure startup in San Francisco.</p><p>We're building a distributed operating system around the Apache Mesos project, a cluster scheduler that currently runs tens of thousands of nodes in production at Twitter.</p><p>Currently recruiting engineers heavily across the stack, from front-end (Rails, Python, Javascript) to back-end (Python, Go, Scala) to core (C++).</p><p>We're significant contributors to open source and are one of the main committers to Apache Mesos, as well as other popular projects like Chronos and Marathon.</p><p>Our customers run huge numbers of compute nodes, so if you're excited by the prospect of your code running at immense scale, get in touch.</p><p>Full-time hires and summer 2015 interns welcome. Please apply via our jobs page for full-time positions or email summer-2015@mesosphere.io for an internship.</p><p>Some relevant reading:\n",
        "* <a href=\"https://gigaom.com/2014/12/07/mesospheres-new-data-center-mother-brain-will-blow-your-mind/\" rel=\"nofollow\">https://gigaom.com/2014/12/07/mesospheres-new-data-center-mo...</a>\n",
        "* <a href=\"http://www.wired.com/2013/03/google-borg-twitter-mesos/all/\" rel=\"nofollow\">http://www.wired.com/2013/03/google-borg-twitter-mesos/all/</a></p></font><hr/><font color=\"#000000\">Affirm - San Francisco, CA<p>Affirm (affirm.com) is re-inventing consumer finance. We're starting with lending, and looking for data scientists to build the systems that decide in real time which loans we make. We are based in San Francisco; founded by Max Levchin (founding CTO PayPal), Jeff Kaditz (CDO DeNA/ngmoco), and Nathan Gettings (founding CTO of Palantir); and looking for exceptionally talented and passionate people to join us on our mission.</p><p>RESPONSIBILITIES</p><p>- Build production fraud and credit machine learning models. Your models will decide who we lend to in real time.</p><p>- Conduct ad-hoc data analyses. Your analyses will decide what policies we adopt, where we expand our business, and who our partners will be.</p><p>REQUIREMENTS</p><p>- Deep understanding of and experience with machine learning and data analysis.</p><p>- Strong programming ability.</p><p>BONUS</p><p>- Expert-level Python ability.</p><p>- Advanced statistics knowledge.</p><p>- Experience with fraud or underwriting.</p><p>Apply at <a href=\"https://www.affirm.com/careers/data-scientist/\" rel=\"nofollow\">https://www.affirm.com/careers/data-scientist/</a> or email us at careers@affirm.com. (We're also hiring software engineers, designers, PMs, and others; see the whole list at <a href=\"https://www.affirm.com/careers/\" rel=\"nofollow\">https://www.affirm.com/careers/</a>)</p><p>FULL-TIME, INTERN, VISA, LOCAL, RELOCATION, NO REMOTE</p></font><hr/><font color=\"#000000\">Axial (<a href=\"http://www.axial.net/about/current-openings/\" rel=\"nofollow\">http://www.axial.net/about/current-openings/</a>) - fulltime, New York, VISA-transfers OK<p>We are hiring backend, frontend and QA engineers. Our stack consists of Python micro-services (Pyramid web framework) talking to each other over a Kafka message bus. For the frontend, we are in the process of transitioning to AngularJS.</p><p>The office is located in the Flatiron district and is right in the middle of great food, public parks and entertainment. Perks include 24/7 access to great coffee -- Blue Bottle, Stumptown, Intelligentsia to name a few, healthy snacks, weekly catered lunch and a gym membership (right around the block) (among others!).</p><p>We are trying to make the private capital markets more efficient by bringing together entrepreneurs, advisors and capital providers. Backed by First Round, Comcast Ventures and Redpoint Ventures among others, this year is going to be a big one!</p><p>Send me an email at farhan.ahmed@axial.net if you have any other questions. Also, check out our engineering blog - <a href=\"http://axialcorps.com/\" rel=\"nofollow\">http://axialcorps.com/</a></p></font><hr/><font color=\"#000000\">Jane Street - New York City, London, Hong Kong - Software Developer (Functinoal Programming) INTERN / VISA<p>Jane Street is a technology-focused proprietary trading firm. We are looking to hire great software developers with an interest in functional programming. OCaml, a statically typed functional programming with similarities to Haskell, Erlang, F# and SML, is our language of choice. We\u00e2\u0080\u0099ve got the largest team of OCaml developers in any industrial setting, and probably the world\u00e2\u0080\u0099s largest OCaml codebase. We use OCaml for running our entire business, supporting everything from research to systems administration to trading systems. If you\u00e2\u0080\u0099re interested in seeing how functional programming plays out in the real world, there\u00e2\u0080\u0099s no better place.\n",
        "The atmosphere is informal and intellectual. There is a focus on education, and people learn about software and trading, both through formal classes and on the job. The work is challenging, and you get to see the practical impact of your efforts in quick and dramatic terms. Jane Street is also small enough that people have the freedom to get involved in many different areas of the business. Compensation is highly competitive, and there\u00e2\u0080\u0099s a lot of room for growth.</p><p>You can learn more about Jane Street and our technology from our main site, janestreet.com. You can also look at a a talk given at CMU about why Jane Street uses functional programming (<a href=\"http://ocaml.janestreet.com/?q=node/61\" rel=\"nofollow\">http://ocaml.janestreet.com/?q=node/61</a>) and our programming blog (<a href=\"http://ocaml.janestreet.com\" rel=\"nofollow\">http://ocaml.janestreet.com</a>)</p><p>More in <a href=\"http://careers.stackoverflow.com/jobs?searchTerm=jane+street\" rel=\"nofollow\">http://careers.stackoverflow.com/jobs?searchTerm=jane+street</a> and <a href=\"https://www.janestreet.com/join-jane-street/\" rel=\"nofollow\">https://www.janestreet.com/join-jane-street/</a></p><p>(I personally work at the Hong Kong office. Feel free to get in touch via tcui@janestreet.com if you have any questions.)</p></font><hr/><font color=\"#000000\">Princess Margaret Cancer Centre: Postdoctoral fellowships in computational biology and machine learning - <a href=\"http://pmgenomics.ca/hoffmanlab/join/\" rel=\"nofollow\">http://pmgenomics.ca/hoffmanlab/join/</a><p>Toronto, ON</p><p>The Hoffman Lab at the Princess Margaret Cancer Centre and the University of Toronto, seeks new members for our team. We develop machine learning techniques to better understand chromatin biology. These models and algorithms transform high-dimensional functional genomics data into interpretable patterns and lead to new biological insight. A key focus of the lab is to train a new generation of computational biologists.</p><p>We seek postdoctoral fellows for several projects in computational genomics and machine learning. Selected projects include:</p><p>1. Integrating epigenomic and sequence data to better understand human gene regulation.</p><p>2. Creating models of transcription factor binding that allow us to predict the effects of perturbations.</p><p>3. Developing deep learning techniques to find novel behavior in multiple functional genomics datasets.</p><p><i>Required qualifications</i>: Doctorate in computational biology, computer science, electrical engineering, statistics, or physics, obtained within the last five years. Submitted first-author or joint first-author papers in genomics or machine learning research. Experience in scientific programming in a Unix environment.</p><p><i>Not required, but preferred qualifications</i>: Experience with epigenomics and graphical models. Published first-author papers in peer-reviewed journals or refereed conference proceedings. Experience programming in Python, R, C, and C++.</p><p><i>Benefits</i>: Includes extended medical insurance, dental insurance, maternity benefits (15 weeks), parental benefits (additional 35 weeks), Canada Pension Plan contributions, and employment insurance.</p><p>We will consider candidates who need a VISA to work in Canada.</p><p><i>To apply</i>: We will accept applications until the position is filled. Please submit your CV (as PDF), your best paper (as PDF), the URL of a code sample, and the names, email addresses, and phone numbers of three references to the address at <a href=\"http://pmgenomics.ca/hoffmanlab/join/#postdoc\" rel=\"nofollow\">http://pmgenomics.ca/hoffmanlab/join/#postdoc</a></p></font><hr/><font color=\"#000000\">Mountain View, CA and New York, NY; Full time, VISA\n",
        "Addepar<p>We are engineers rebuilding the infrastructure that powers global finance. Current technology in the space is broken and opaque; it enables scandals like Bernie Madoff to go on for a decade while $64 billion vanishes from the economy. We're building a platform around transparency and connectedness to encourage responsibility and reward good decision making.</p><p>Join us: careers.addepar.com Or email careers [at] Addepar [dot] com</p></font><hr/><font color=\"#000000\">Scribd (YC '06), San Francisco - VISA, FULL-TIME, and INTERN are all welcome<p>Scribd (\"Netflix for eBooks\", top 100 website, 50 people) is hiring talented hackers of all kinds to help us build the library of the 21st century.</p><p>We've hired EIGHT full-time people and TONS of interns from these \"Who is Hiring\" threads ... it really works!</p><p>We're looking for people who want to work with:</p><p>* Ruby on Rails (we're the #2 largest rails site, after Twitter)</p><p>* Javascript (well, we use Coffeescript)</p><p>* iOS OR Android (we're a top 10 eBook app with more reviews than Wikipedia, with a small mobile team)</p><p>* Machine Learning / data mining / recommendations - think Netflix prize, but for books!</p><p>* Big data and web infrastructure - we're big users of hive, impala, and hadoop</p><p>* Product manager and design (UI or UX) roles too</p><p>* Internships: junior standing or above for all areas of engineering. We hire several interns every summer and year-round.</p><p>That said, we care way more about your personality and general hacking skills then what languages you've used so far, so if you haven't used these but want to break into mobile or web development, this could be a good opportunity for you. We've hired people from these threads with everywhere from 0 to 10 years of experience.</p><p>We're profitable, very well funded and have a really fun office environment (go-karts + a rock climbing wall!) in the center of the startup world in San Francisco. Scribd alumni have gone on to found 4 other YCombinator companies, more than from any other startup. We think this says something about the kind of people that we like to hire, and we love hiring people with entrepreneur and startup ambitions. We are also always looking for international people interested in moving to the US and can help you secure a visa.</p><p>You can read more about our \"Netflix for Books\" service here <a href=\"http://wrd.cm/1dJquzz\" rel=\"nofollow\">http://wrd.cm/1dJquzz</a> or check out our tech blog at <a href=\"http://coding.scribd.com\" rel=\"nofollow\">http://coding.scribd.com</a></p><p>More info is at <a href=\"http://www.scribd.com/jobs\" rel=\"nofollow\">http://www.scribd.com/jobs</a>, but as a HN user, feel free to apply directly by emailing me at jared at scribd.com.</p></font>"
       ],
       "metadata": {},
       "output_type": "pyout",
       "prompt_number": 51,
       "text": [
        "<IPython.core.display.HTML at 0x7fab8fdcf110>"
       ]
      }
     ],
     "prompt_number": 51
    },
    {
     "cell_type": "heading",
     "level": 1,
     "metadata": {},
     "source": [
      "Job Statistics"
     ]
    },
    {
     "cell_type": "code",
     "collapsed": false,
     "input": [
      "import pandas as pd"
     ],
     "language": "python",
     "metadata": {},
     "outputs": [],
     "prompt_number": 53
    },
    {
     "cell_type": "code",
     "collapsed": false,
     "input": [
      "statistics = []\n",
      "cap = 5\n",
      "for p_date, listing in listings.items():\n",
      "    if cap == 0:\n",
      "        break\n",
      "    cap -= 1\n",
      "    jobs = joblisting.JobListing(listing.permanent)\n",
      "    remote_jobs = [x for x in jobs if remote.search(x['text'])]\n",
      "    visa_jobs = [x for x in jobs if visa.search(x['text'])]\n",
      "    statistics.append((p_date, len(jobs), len(remote_jobs), len(visa_jobs)))\n",
      "statistics = pd.DataFrame(statistics, columns=['date', 'total', 'remote', 'visa'])"
     ],
     "language": "python",
     "metadata": {},
     "outputs": [],
     "prompt_number": 58
    },
    {
     "cell_type": "code",
     "collapsed": false,
     "input": [
      "statistics['remote ratio'] = statistics['remote'] * 100.0 / statistics['total']\n",
      "statistics['visa ratio'] = statistics['visa'] * 100.0 / statistics['total']\n",
      "statistics"
     ],
     "language": "python",
     "metadata": {},
     "outputs": [
      {
       "html": [
        "<div style=\"max-height:1000px;max-width:1500px;overflow:auto;\">\n",
        "<table border=\"1\" class=\"dataframe\">\n",
        "  <thead>\n",
        "    <tr style=\"text-align: right;\">\n",
        "      <th></th>\n",
        "      <th>date</th>\n",
        "      <th>total</th>\n",
        "      <th>remote</th>\n",
        "      <th>visa</th>\n",
        "      <th>remote ratio</th>\n",
        "      <th>visa ratio</th>\n",
        "    </tr>\n",
        "  </thead>\n",
        "  <tbody>\n",
        "    <tr>\n",
        "      <th>0</th>\n",
        "      <td> 2015-01-01</td>\n",
        "      <td> 275</td>\n",
        "      <td> 50</td>\n",
        "      <td> 26</td>\n",
        "      <td> 18.181818</td>\n",
        "      <td> 9.454545</td>\n",
        "    </tr>\n",
        "    <tr>\n",
        "      <th>1</th>\n",
        "      <td> 2014-12-01</td>\n",
        "      <td> 468</td>\n",
        "      <td> 77</td>\n",
        "      <td> 25</td>\n",
        "      <td> 16.452991</td>\n",
        "      <td> 5.341880</td>\n",
        "    </tr>\n",
        "    <tr>\n",
        "      <th>2</th>\n",
        "      <td> 2014-11-01</td>\n",
        "      <td> 347</td>\n",
        "      <td> 59</td>\n",
        "      <td> 21</td>\n",
        "      <td> 17.002882</td>\n",
        "      <td> 6.051873</td>\n",
        "    </tr>\n",
        "    <tr>\n",
        "      <th>3</th>\n",
        "      <td> 2014-10-01</td>\n",
        "      <td> 356</td>\n",
        "      <td> 53</td>\n",
        "      <td> 22</td>\n",
        "      <td> 14.887640</td>\n",
        "      <td> 6.179775</td>\n",
        "    </tr>\n",
        "    <tr>\n",
        "      <th>4</th>\n",
        "      <td> 2014-09-01</td>\n",
        "      <td> 283</td>\n",
        "      <td> 61</td>\n",
        "      <td> 11</td>\n",
        "      <td> 21.554770</td>\n",
        "      <td> 3.886926</td>\n",
        "    </tr>\n",
        "  </tbody>\n",
        "</table>\n",
        "<p>5 rows \u00d7 6 columns</p>\n",
        "</div>"
       ],
       "metadata": {},
       "output_type": "pyout",
       "prompt_number": 59,
       "text": [
        "         date  total  remote  visa  remote ratio  visa ratio\n",
        "0  2015-01-01    275      50    26     18.181818    9.454545\n",
        "1  2014-12-01    468      77    25     16.452991    5.341880\n",
        "2  2014-11-01    347      59    21     17.002882    6.051873\n",
        "3  2014-10-01    356      53    22     14.887640    6.179775\n",
        "4  2014-09-01    283      61    11     21.554770    3.886926\n",
        "\n",
        "[5 rows x 6 columns]"
       ]
      }
     ],
     "prompt_number": 59
    },
    {
     "cell_type": "code",
     "collapsed": false,
     "input": [],
     "language": "python",
     "metadata": {},
     "outputs": []
    }
   ],
   "metadata": {}
  }
 ]
}